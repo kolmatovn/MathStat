{
 "cells": [
  {
   "cell_type": "code",
   "execution_count": 1,
   "metadata": {},
   "outputs": [],
   "source": [
    "import numpy as np\n",
    "import pandas as pd\n",
    "from scipy import stats"
   ]
  },
  {
   "cell_type": "markdown",
   "metadata": {},
   "source": [
    "Сформулируем нулевую гипотезу:\n",
    "\n",
    "\n",
    "<math xmlns=\"http://www.w3.org/1998/Math/MathML\">\n",
    "  <mi>H</mi>\n",
    "  <mn>0</mn>\n",
    "  <mo>:</mo>\n",
    "  <msub>\n",
    "    <mi>&#x3BC;</mi>\n",
    "    <mn>1</mn>\n",
    "  </msub>\n",
    "  <mo>=</mo>\n",
    "  <msub>\n",
    "    <mi>&#x3BC;</mi>\n",
    "    <mn>2</mn>\n",
    "  </msub>\n",
    "  <mo>=</mo>\n",
    "  <msub>\n",
    "    <mi>&#x3BC;</mi>\n",
    "    <mn>3</mn>\n",
    "  </msub>\n",
    "</math> \n",
    "т.е. средний рост спортсмена не зависит от вида спорта, которым он занимается(из представленных трех).\n",
    "\n",
    "Альтернативная гипотеза:\n",
    "\n",
    "<math xmlns=\"http://www.w3.org/1998/Math/MathML\">\n",
    "  <mi>H</mi>\n",
    "  <mn>1</mn>\n",
    "  <mo>:</mo>\n",
    "  <msub>\n",
    "    <mi>&#x3BC;</mi>\n",
    "    <mn>1</mn>\n",
    "  </msub>\n",
    "  <mo>&#x2260;</mo>\n",
    "  <msub>\n",
    "    <mi>&#x3BC;</mi>\n",
    "    <mn>2</mn>\n",
    "  </msub>\n",
    "  <mo>&#x2260;</mo>\n",
    "  <msub>\n",
    "    <mi>&#x3BC;</mi>\n",
    "    <mn>3</mn>\n",
    "  </msub>\n",
    "</math> т.е. средний рост спортсмена зависит от выбранного им спорта."
   ]
  },
  {
   "cell_type": "code",
   "execution_count": 2,
   "metadata": {},
   "outputs": [],
   "source": [
    "football=np.array([173, 175, 180, 178, 177, 185, 183, 182])\n",
    "hockey=np.array([177, 179, 180, 188, 177, 172, 171, 184, 180])\n",
    "weightlifting=np.array([172, 173, 169, 177, 166, 180, 178, 177, 172, 166, 170])"
   ]
  },
  {
   "cell_type": "markdown",
   "metadata": {},
   "source": [
    "Воспользуемся встроенным методом однофакторного дисперсионного анализа библиотеки scipy:"
   ]
  },
  {
   "cell_type": "code",
   "execution_count": 3,
   "metadata": {},
   "outputs": [
    {
     "data": {
      "text/plain": [
       "F_onewayResult(statistic=5.500053450812596, pvalue=0.010482206918698693)"
      ]
     },
     "execution_count": 3,
     "metadata": {},
     "output_type": "execute_result"
    }
   ],
   "source": [
    "stats.f_oneway(football, hockey, weightlifting)"
   ]
  },
  {
   "cell_type": "markdown",
   "metadata": {},
   "source": [
    "Получили значение p-value < alpha (5%) => отвергаем нулевую гипотезу. Т.е. средний рост футболистов, хоккеистов и штангистоа различен."
   ]
  }
 ],
 "metadata": {
  "kernelspec": {
   "display_name": "Python 3",
   "language": "python",
   "name": "python3"
  },
  "language_info": {
   "codemirror_mode": {
    "name": "ipython",
    "version": 3
   },
   "file_extension": ".py",
   "mimetype": "text/x-python",
   "name": "python",
   "nbconvert_exporter": "python",
   "pygments_lexer": "ipython3",
   "version": "3.12.0"
  }
 },
 "nbformat": 4,
 "nbformat_minor": 2
}
